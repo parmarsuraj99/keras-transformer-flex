{
 "cells": [
  {
   "cell_type": "code",
   "execution_count": 1,
   "metadata": {},
   "outputs": [],
   "source": [
    "import numpy as np\n",
    "import tensorflow as tf\n",
    "\n",
    "from transformer import *\n",
    "\n",
    "from transformers import GPT2Tokenizer, BertTokenizer\n",
    "tokenizer = BertTokenizer.from_pretrained(\"bert-base-cased\")"
   ]
  },
  {
   "cell_type": "code",
   "execution_count": 2,
   "metadata": {
    "tags": []
   },
   "outputs": [],
   "source": [
    "visual_backbone = tf.keras.applications.ResNet50(input_shape=(224, 224, 3), include_top=False, weights=\"imagenet\")"
   ]
  },
  {
   "cell_type": "code",
   "execution_count": 3,
   "metadata": {
    "tags": []
   },
   "outputs": [
    {
     "output_type": "stream",
     "name": "stdout",
     "text": "TGT:(64, 62, 512)\nQ:(64, 8, 62, 64), K:(64, 8, 62, 64), V:(64, 8, 62, 64)\nTGT:(64, 62, 512), ENC: (64, 60, 512)\nQ:(64, 8, 62, 64), K:(64, 8, 60, 64), V:(64, 8, 60, 64)\ntarget: (64, 62, 512), enc_op:(64, 60, 512)\nTGT:(64, 62, 512)\nQ:(64, 8, 62, 64), K:(64, 8, 62, 64), V:(64, 8, 62, 64)\nTGT:(64, 62, 512), ENC: (64, 60, 512)\nQ:(64, 8, 62, 64), K:(64, 8, 60, 64), V:(64, 8, 60, 64)\ntarget: (64, 62, 512), enc_op:(64, 60, 512)\nWall time: 1.55 s\n"
    },
    {
     "output_type": "execute_result",
     "data": {
      "text/plain": "TensorShape([62, 64, 512])"
     },
     "metadata": {},
     "execution_count": 3
    }
   ],
   "source": [
    "%%time\n",
    "sample_decoder = Decoder(num_layers=2, d_model=512, num_heads=8, \n",
    "                         dff=2048)\n",
    "\n",
    "tmp_memory = tf.random.uniform((60, 64, 512), dtype=tf.float32, minval=0, maxval=200)\n",
    "tmp_tgt = tf.random.uniform((62, 64, 512), dtype=tf.float32, minval=0, maxval=200)\n",
    "\n",
    "tgt_mask = tf.linalg.band_part(tf.ones([62, 62]), 0, -1)\n",
    "\n",
    "output = sample_decoder(tmp_tgt, \n",
    "                        enc_output=tmp_memory, \n",
    "                        training=False,\n",
    "                        look_ahead_mask=tgt_mask, \n",
    "                        padding_mask=None\n",
    "                    )\n",
    "\n",
    "output.shape"
   ]
  },
  {
   "cell_type": "code",
   "execution_count": 4,
   "metadata": {},
   "outputs": [
    {
     "output_type": "execute_result",
     "data": {
      "text/plain": "TensorShape([1, 224, 224, 3])"
     },
     "metadata": {},
     "execution_count": 4
    }
   ],
   "source": [
    "img = tf.random.uniform([1, 224,224,3]); img.shape"
   ]
  },
  {
   "cell_type": "code",
   "execution_count": 5,
   "metadata": {},
   "outputs": [
    {
     "output_type": "execute_result",
     "data": {
      "text/plain": "TensorShape([1, 2048, 7, 7])"
     },
     "metadata": {},
     "execution_count": 5
    }
   ],
   "source": [
    "ps = visual_backbone(img); ps.shape\n",
    "ps = tf.transpose(ps, [0, 3, 1, 2]); ps.shape"
   ]
  },
  {
   "cell_type": "code",
   "execution_count": 6,
   "metadata": {},
   "outputs": [
    {
     "output_type": "execute_result",
     "data": {
      "text/plain": "TensorShape([1, 49, 2048])"
     },
     "metadata": {},
     "execution_count": 6
    }
   ],
   "source": [
    "rs = tf.reshape(ps, [ps.shape[0], ps.shape[1], -1])\n",
    "rs = tf.transpose(rs, [0, 2, 1]); rs.shape"
   ]
  },
  {
   "cell_type": "code",
   "execution_count": 7,
   "metadata": {},
   "outputs": [
    {
     "output_type": "execute_result",
     "data": {
      "text/plain": "TensorShape([1, 49, 256])"
     },
     "metadata": {},
     "execution_count": 7
    }
   ],
   "source": [
    "projected = L.Dense(256)(rs); projected.shape"
   ]
  },
  {
   "cell_type": "code",
   "execution_count": 8,
   "metadata": {
    "tags": []
   },
   "outputs": [
    {
     "output_type": "stream",
     "name": "stderr",
     "text": "Truncation was not explicitely activated but `max_length` is provided a specific value, please use `truncation=True` to explicitely truncate examples to max length. Defaulting to 'longest_first' truncation strategy. If you encode pairs of sequences (GLUE-style) with the tokenizer you can select this strategy more precisely by providing a specific strategy to `truncation`.\n"
    }
   ],
   "source": [
    "enc = tokenizer.encode(\"hello Hi, How is it going\", max_length=49, pad_to_max_length=True,  return_tensors=\"tf\")"
   ]
  },
  {
   "cell_type": "code",
   "execution_count": 9,
   "metadata": {},
   "outputs": [],
   "source": [
    "from textual_heads import TransformerTextualHead"
   ]
  },
  {
   "cell_type": "code",
   "execution_count": 10,
   "metadata": {},
   "outputs": [],
   "source": [
    "trf = TransformerTextualHead(vocab_size=28996, hidden_size=256, num_layers=6, attention_heads=8, feedforward_size=256, max_caption_length=50)"
   ]
  },
  {
   "cell_type": "code",
   "execution_count": 11,
   "metadata": {},
   "outputs": [
    {
     "output_type": "execute_result",
     "data": {
      "text/plain": "TensorShape([1, 49])"
     },
     "metadata": {},
     "execution_count": 11
    }
   ],
   "source": [
    "projected.shape; enc.shape"
   ]
  },
  {
   "cell_type": "code",
   "execution_count": 12,
   "metadata": {
    "tags": []
   },
   "outputs": [
    {
     "output_type": "stream",
     "name": "stdout",
     "text": "49\n(1, 49)\n(1, 49)\ncap_vis_mask: (1, 49, 256) (1, 49, 256) (49, 49)\n(49, 1, 256) (49, 1, 256)\nTGT:(1, 49, 256)\nQ:(1, 8, 49, 32), K:(1, 8, 49, 32), V:(1, 8, 49, 32)\nTGT:(1, 49, 256), ENC: (1, 49, 256)\nQ:(1, 8, 49, 32), K:(1, 8, 49, 32), V:(1, 8, 49, 32)\ntarget: (1, 49, 256), enc_op:(1, 49, 256)\nTGT:(1, 49, 256)\nQ:(1, 8, 49, 32), K:(1, 8, 49, 32), V:(1, 8, 49, 32)\nTGT:(1, 49, 256), ENC: (1, 49, 256)\nQ:(1, 8, 49, 32), K:(1, 8, 49, 32), V:(1, 8, 49, 32)\ntarget: (1, 49, 256), enc_op:(1, 49, 256)\nTGT:(1, 49, 256)\nQ:(1, 8, 49, 32), K:(1, 8, 49, 32), V:(1, 8, 49, 32)\nTGT:(1, 49, 256), ENC: (1, 49, 256)\nQ:(1, 8, 49, 32), K:(1, 8, 49, 32), V:(1, 8, 49, 32)\ntarget: (1, 49, 256), enc_op:(1, 49, 256)\nTGT:(1, 49, 256)\nQ:(1, 8, 49, 32), K:(1, 8, 49, 32), V:(1, 8, 49, 32)\nTGT:(1, 49, 256), ENC: (1, 49, 256)\nQ:(1, 8, 49, 32), K:(1, 8, 49, 32), V:(1, 8, 49, 32)\ntarget: (1, 49, 256), enc_op:(1, 49, 256)\nTGT:(1, 49, 256)\nQ:(1, 8, 49, 32), K:(1, 8, 49, 32), V:(1, 8, 49, 32)\nTGT:(1, 49, 256), ENC: (1, 49, 256)\nQ:(1, 8, 49, 32), K:(1, 8, 49, 32), V:(1, 8, 49, 32)\ntarget: (1, 49, 256), enc_op:(1, 49, 256)\nTGT:(1, 49, 256)\nQ:(1, 8, 49, 32), K:(1, 8, 49, 32), V:(1, 8, 49, 32)\nTGT:(1, 49, 256), ENC: (1, 49, 256)\nQ:(1, 8, 49, 32), K:(1, 8, 49, 32), V:(1, 8, 49, 32)\ntarget: (1, 49, 256), enc_op:(1, 49, 256)\nWall time: 763 ms\n"
    }
   ],
   "source": [
    "%%time\n",
    "caps = trf(enc, [50], projected, training=False)"
   ]
  },
  {
   "cell_type": "code",
   "execution_count": 13,
   "metadata": {},
   "outputs": [
    {
     "output_type": "execute_result",
     "data": {
      "text/plain": "['Owens Owensament Owenstectec Owens Owens Owenstectectectectectectectectectectec Owens Owens Owens Owens Owens Owens Owens Owens Owens Owens Owens Owens Owens Owens Owens Owens Owens Owens Owens Owens Owens Owens Owens Owens Owens Owens Owens Owens Owens']"
     },
     "metadata": {},
     "execution_count": 13
    }
   ],
   "source": [
    "tokenizer.batch_decode(tf.argmax(caps, 2))"
   ]
  },
  {
   "cell_type": "code",
   "execution_count": null,
   "metadata": {},
   "outputs": [],
   "source": []
  },
  {
   "cell_type": "code",
   "execution_count": null,
   "metadata": {},
   "outputs": [],
   "source": []
  }
 ],
 "metadata": {
  "language_info": {
   "codemirror_mode": {
    "name": "ipython",
    "version": 3
   },
   "file_extension": ".py",
   "mimetype": "text/x-python",
   "name": "python",
   "nbconvert_exporter": "python",
   "pygments_lexer": "ipython3",
   "version": "3.7.4-final"
  },
  "orig_nbformat": 2,
  "kernelspec": {
   "name": "python_defaultSpec_1593860282994",
   "display_name": "Python 3.7.4 64-bit ('base': conda)"
  }
 },
 "nbformat": 4,
 "nbformat_minor": 2
}